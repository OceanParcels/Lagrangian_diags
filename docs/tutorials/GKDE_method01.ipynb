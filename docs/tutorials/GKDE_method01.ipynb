{
 "cells": [
  {
   "cell_type": "markdown",
   "metadata": {
    "tags": []
   },
   "source": [
    "# Gaussian Kernel Density Estimation (method 01)\n",
    "\n",
    "One of the methods used to calculate the density of particles is a 2-dimensional horizontal Gaussian Kernel Density Estimation (GKDE). This is a non-parametric (applicable to a non-Gaussian distribution) estimate of the probability density function of a field. \n",
    "\n",
    "In this example below, the GKDE is applied to a snapshot of particle positions, on all particles in the whole domain.\n",
    "\n",
    "We use the python SciPy stats gaussian\\_kde algorithm with a default kernel size (bandwidth), which is calculated following Scott's Rule <a href=\"https://onlinelibrary.wiley.com/doi/book/10.1002/9780470316849\" target=\"_blank\">[Scott, 1992]</a>. This bandwidth selector calculates the optimal bandwidth value that avoids both over-smoothing and under-smoothing.\n"
   ]
  },
  {
   "cell_type": "markdown",
   "metadata": {},
   "source": [
    "* Author(s): Laura Gomez Navarro\n",
    "* Created on: 11/11/22\n",
    "* Last updated on:"
   ]
  },
  {
   "cell_type": "code",
   "execution_count": 1,
   "metadata": {},
   "outputs": [
    {
     "name": "stdout",
     "output_type": "stream",
     "text": [
      "Wed Jun 28 16:04:39 2023\n"
     ]
    }
   ],
   "source": [
    "import time\n",
    "\n",
    "print(time.ctime(time.time()))"
   ]
  },
  {
   "cell_type": "markdown",
   "metadata": {},
   "source": [
    "### 0.  Imports and package versions"
   ]
  },
  {
   "cell_type": "code",
   "execution_count": 2,
   "metadata": {},
   "outputs": [],
   "source": [
    "from glob import glob\n",
    "import xarray as xr\n",
    "import numpy as np\n",
    "from scipy.stats import gaussian_kde\n",
    "\n",
    "import matplotlib.pyplot as plt\n",
    "import cartopy\n",
    "import cartopy.crs as ccrs\n",
    "from cartopy.mpl.gridliner import LONGITUDE_FORMATTER, LATITUDE_FORMATTER\n",
    "import matplotlib.ticker as mticker\n",
    "import inspect\n",
    "import sys"
   ]
  },
  {
   "cell_type": "code",
   "execution_count": 3,
   "metadata": {
    "scrolled": true,
    "tags": []
   },
   "outputs": [
    {
     "data": {
      "application/json": {
       "Software versions": [
        {
         "module": "Python",
         "version": "3.8.5 64bit [Clang 10.0.0 ]"
        },
        {
         "module": "IPython",
         "version": "7.20.0"
        },
        {
         "module": "OS",
         "version": "macOS 10.16 x86_64 i386 64bit"
        },
        {
         "module": "numpy",
         "version": "1.19.2"
        },
        {
         "module": "xarray",
         "version": "0.16.2"
        },
        {
         "module": "scipy",
         "version": "1.6.0"
        }
       ]
      },
      "text/html": [
       "<table><tr><th>Software</th><th>Version</th></tr><tr><td>Python</td><td>3.8.5 64bit [Clang 10.0.0 ]</td></tr><tr><td>IPython</td><td>7.20.0</td></tr><tr><td>OS</td><td>macOS 10.16 x86_64 i386 64bit</td></tr><tr><td>numpy</td><td>1.19.2</td></tr><tr><td>xarray</td><td>0.16.2</td></tr><tr><td>scipy</td><td>1.6.0</td></tr><tr><td colspan='2'>Wed Jun 28 16:04:46 2023 CEST</td></tr></table>"
      ],
      "text/latex": [
       "\\begin{tabular}{|l|l|}\\hline\n",
       "{\\bf Software} & {\\bf Version} \\\\ \\hline\\hline\n",
       "Python & 3.8.5 64bit [Clang 10.0.0 ] \\\\ \\hline\n",
       "IPython & 7.20.0 \\\\ \\hline\n",
       "OS & macOS 10.16 x86\\_64 i386 64bit \\\\ \\hline\n",
       "numpy & 1.19.2 \\\\ \\hline\n",
       "xarray & 0.16.2 \\\\ \\hline\n",
       "scipy & 1.6.0 \\\\ \\hline\n",
       "\\hline \\multicolumn{2}{|l|}{Wed Jun 28 16:04:46 2023 CEST} \\\\ \\hline\n",
       "\\end{tabular}\n"
      ],
      "text/plain": [
       "Software versions\n",
       "Python 3.8.5 64bit [Clang 10.0.0 ]\n",
       "IPython 7.20.0\n",
       "OS macOS 10.16 x86_64 i386 64bit\n",
       "numpy 1.19.2\n",
       "xarray 0.16.2\n",
       "scipy 1.6.0\n",
       "Wed Jun 28 16:04:46 2023 CEST"
      ]
     },
     "execution_count": 3,
     "metadata": {},
     "output_type": "execute_result"
    }
   ],
   "source": [
    "%load_ext autoreload\n",
    "%autoreload 2\n",
    "%load_ext version_information\n",
    "%version_information numpy, xarray, scipy"
   ]
  },
  {
   "cell_type": "markdown",
   "metadata": {},
   "source": [
    "### 1. Loading the data"
   ]
  },
  {
   "cell_type": "code",
   "execution_count": 5,
   "metadata": {},
   "outputs": [],
   "source": [
    "filedir = '../Simulations/'"
   ]
  },
  {
   "cell_type": "code",
   "execution_count": 6,
   "metadata": {},
   "outputs": [],
   "source": [
    "ds = xr.open_dataset(filedir + 'toy_data_01.nc')"
   ]
  },
  {
   "cell_type": "code",
   "execution_count": 7,
   "metadata": {},
   "outputs": [
    {
     "data": {
      "text/html": [
       "<div><svg style=\"position: absolute; width: 0; height: 0; overflow: hidden\">\n",
       "<defs>\n",
       "<symbol id=\"icon-database\" viewBox=\"0 0 32 32\">\n",
       "<path d=\"M16 0c-8.837 0-16 2.239-16 5v4c0 2.761 7.163 5 16 5s16-2.239 16-5v-4c0-2.761-7.163-5-16-5z\"></path>\n",
       "<path d=\"M16 17c-8.837 0-16-2.239-16-5v6c0 2.761 7.163 5 16 5s16-2.239 16-5v-6c0 2.761-7.163 5-16 5z\"></path>\n",
       "<path d=\"M16 26c-8.837 0-16-2.239-16-5v6c0 2.761 7.163 5 16 5s16-2.239 16-5v-6c0 2.761-7.163 5-16 5z\"></path>\n",
       "</symbol>\n",
       "<symbol id=\"icon-file-text2\" viewBox=\"0 0 32 32\">\n",
       "<path d=\"M28.681 7.159c-0.694-0.947-1.662-2.053-2.724-3.116s-2.169-2.030-3.116-2.724c-1.612-1.182-2.393-1.319-2.841-1.319h-15.5c-1.378 0-2.5 1.121-2.5 2.5v27c0 1.378 1.122 2.5 2.5 2.5h23c1.378 0 2.5-1.122 2.5-2.5v-19.5c0-0.448-0.137-1.23-1.319-2.841zM24.543 5.457c0.959 0.959 1.712 1.825 2.268 2.543h-4.811v-4.811c0.718 0.556 1.584 1.309 2.543 2.268zM28 29.5c0 0.271-0.229 0.5-0.5 0.5h-23c-0.271 0-0.5-0.229-0.5-0.5v-27c0-0.271 0.229-0.5 0.5-0.5 0 0 15.499-0 15.5 0v7c0 0.552 0.448 1 1 1h7v19.5z\"></path>\n",
       "<path d=\"M23 26h-14c-0.552 0-1-0.448-1-1s0.448-1 1-1h14c0.552 0 1 0.448 1 1s-0.448 1-1 1z\"></path>\n",
       "<path d=\"M23 22h-14c-0.552 0-1-0.448-1-1s0.448-1 1-1h14c0.552 0 1 0.448 1 1s-0.448 1-1 1z\"></path>\n",
       "<path d=\"M23 18h-14c-0.552 0-1-0.448-1-1s0.448-1 1-1h14c0.552 0 1 0.448 1 1s-0.448 1-1 1z\"></path>\n",
       "</symbol>\n",
       "</defs>\n",
       "</svg>\n",
       "<style>/* CSS stylesheet for displaying xarray objects in jupyterlab.\n",
       " *\n",
       " */\n",
       "\n",
       ":root {\n",
       "  --xr-font-color0: var(--jp-content-font-color0, rgba(0, 0, 0, 1));\n",
       "  --xr-font-color2: var(--jp-content-font-color2, rgba(0, 0, 0, 0.54));\n",
       "  --xr-font-color3: var(--jp-content-font-color3, rgba(0, 0, 0, 0.38));\n",
       "  --xr-border-color: var(--jp-border-color2, #e0e0e0);\n",
       "  --xr-disabled-color: var(--jp-layout-color3, #bdbdbd);\n",
       "  --xr-background-color: var(--jp-layout-color0, white);\n",
       "  --xr-background-color-row-even: var(--jp-layout-color1, white);\n",
       "  --xr-background-color-row-odd: var(--jp-layout-color2, #eeeeee);\n",
       "}\n",
       "\n",
       "html[theme=dark],\n",
       "body.vscode-dark {\n",
       "  --xr-font-color0: rgba(255, 255, 255, 1);\n",
       "  --xr-font-color2: rgba(255, 255, 255, 0.54);\n",
       "  --xr-font-color3: rgba(255, 255, 255, 0.38);\n",
       "  --xr-border-color: #1F1F1F;\n",
       "  --xr-disabled-color: #515151;\n",
       "  --xr-background-color: #111111;\n",
       "  --xr-background-color-row-even: #111111;\n",
       "  --xr-background-color-row-odd: #313131;\n",
       "}\n",
       "\n",
       ".xr-wrap {\n",
       "  display: block;\n",
       "  min-width: 300px;\n",
       "  max-width: 700px;\n",
       "}\n",
       "\n",
       ".xr-text-repr-fallback {\n",
       "  /* fallback to plain text repr when CSS is not injected (untrusted notebook) */\n",
       "  display: none;\n",
       "}\n",
       "\n",
       ".xr-header {\n",
       "  padding-top: 6px;\n",
       "  padding-bottom: 6px;\n",
       "  margin-bottom: 4px;\n",
       "  border-bottom: solid 1px var(--xr-border-color);\n",
       "}\n",
       "\n",
       ".xr-header > div,\n",
       ".xr-header > ul {\n",
       "  display: inline;\n",
       "  margin-top: 0;\n",
       "  margin-bottom: 0;\n",
       "}\n",
       "\n",
       ".xr-obj-type,\n",
       ".xr-array-name {\n",
       "  margin-left: 2px;\n",
       "  margin-right: 10px;\n",
       "}\n",
       "\n",
       ".xr-obj-type {\n",
       "  color: var(--xr-font-color2);\n",
       "}\n",
       "\n",
       ".xr-sections {\n",
       "  padding-left: 0 !important;\n",
       "  display: grid;\n",
       "  grid-template-columns: 150px auto auto 1fr 20px 20px;\n",
       "}\n",
       "\n",
       ".xr-section-item {\n",
       "  display: contents;\n",
       "}\n",
       "\n",
       ".xr-section-item input {\n",
       "  display: none;\n",
       "}\n",
       "\n",
       ".xr-section-item input + label {\n",
       "  color: var(--xr-disabled-color);\n",
       "}\n",
       "\n",
       ".xr-section-item input:enabled + label {\n",
       "  cursor: pointer;\n",
       "  color: var(--xr-font-color2);\n",
       "}\n",
       "\n",
       ".xr-section-item input:enabled + label:hover {\n",
       "  color: var(--xr-font-color0);\n",
       "}\n",
       "\n",
       ".xr-section-summary {\n",
       "  grid-column: 1;\n",
       "  color: var(--xr-font-color2);\n",
       "  font-weight: 500;\n",
       "}\n",
       "\n",
       ".xr-section-summary > span {\n",
       "  display: inline-block;\n",
       "  padding-left: 0.5em;\n",
       "}\n",
       "\n",
       ".xr-section-summary-in:disabled + label {\n",
       "  color: var(--xr-font-color2);\n",
       "}\n",
       "\n",
       ".xr-section-summary-in + label:before {\n",
       "  display: inline-block;\n",
       "  content: '►';\n",
       "  font-size: 11px;\n",
       "  width: 15px;\n",
       "  text-align: center;\n",
       "}\n",
       "\n",
       ".xr-section-summary-in:disabled + label:before {\n",
       "  color: var(--xr-disabled-color);\n",
       "}\n",
       "\n",
       ".xr-section-summary-in:checked + label:before {\n",
       "  content: '▼';\n",
       "}\n",
       "\n",
       ".xr-section-summary-in:checked + label > span {\n",
       "  display: none;\n",
       "}\n",
       "\n",
       ".xr-section-summary,\n",
       ".xr-section-inline-details {\n",
       "  padding-top: 4px;\n",
       "  padding-bottom: 4px;\n",
       "}\n",
       "\n",
       ".xr-section-inline-details {\n",
       "  grid-column: 2 / -1;\n",
       "}\n",
       "\n",
       ".xr-section-details {\n",
       "  display: none;\n",
       "  grid-column: 1 / -1;\n",
       "  margin-bottom: 5px;\n",
       "}\n",
       "\n",
       ".xr-section-summary-in:checked ~ .xr-section-details {\n",
       "  display: contents;\n",
       "}\n",
       "\n",
       ".xr-array-wrap {\n",
       "  grid-column: 1 / -1;\n",
       "  display: grid;\n",
       "  grid-template-columns: 20px auto;\n",
       "}\n",
       "\n",
       ".xr-array-wrap > label {\n",
       "  grid-column: 1;\n",
       "  vertical-align: top;\n",
       "}\n",
       "\n",
       ".xr-preview {\n",
       "  color: var(--xr-font-color3);\n",
       "}\n",
       "\n",
       ".xr-array-preview,\n",
       ".xr-array-data {\n",
       "  padding: 0 5px !important;\n",
       "  grid-column: 2;\n",
       "}\n",
       "\n",
       ".xr-array-data,\n",
       ".xr-array-in:checked ~ .xr-array-preview {\n",
       "  display: none;\n",
       "}\n",
       "\n",
       ".xr-array-in:checked ~ .xr-array-data,\n",
       ".xr-array-preview {\n",
       "  display: inline-block;\n",
       "}\n",
       "\n",
       ".xr-dim-list {\n",
       "  display: inline-block !important;\n",
       "  list-style: none;\n",
       "  padding: 0 !important;\n",
       "  margin: 0;\n",
       "}\n",
       "\n",
       ".xr-dim-list li {\n",
       "  display: inline-block;\n",
       "  padding: 0;\n",
       "  margin: 0;\n",
       "}\n",
       "\n",
       ".xr-dim-list:before {\n",
       "  content: '(';\n",
       "}\n",
       "\n",
       ".xr-dim-list:after {\n",
       "  content: ')';\n",
       "}\n",
       "\n",
       ".xr-dim-list li:not(:last-child):after {\n",
       "  content: ',';\n",
       "  padding-right: 5px;\n",
       "}\n",
       "\n",
       ".xr-has-index {\n",
       "  font-weight: bold;\n",
       "}\n",
       "\n",
       ".xr-var-list,\n",
       ".xr-var-item {\n",
       "  display: contents;\n",
       "}\n",
       "\n",
       ".xr-var-item > div,\n",
       ".xr-var-item label,\n",
       ".xr-var-item > .xr-var-name span {\n",
       "  background-color: var(--xr-background-color-row-even);\n",
       "  margin-bottom: 0;\n",
       "}\n",
       "\n",
       ".xr-var-item > .xr-var-name:hover span {\n",
       "  padding-right: 5px;\n",
       "}\n",
       "\n",
       ".xr-var-list > li:nth-child(odd) > div,\n",
       ".xr-var-list > li:nth-child(odd) > label,\n",
       ".xr-var-list > li:nth-child(odd) > .xr-var-name span {\n",
       "  background-color: var(--xr-background-color-row-odd);\n",
       "}\n",
       "\n",
       ".xr-var-name {\n",
       "  grid-column: 1;\n",
       "}\n",
       "\n",
       ".xr-var-dims {\n",
       "  grid-column: 2;\n",
       "}\n",
       "\n",
       ".xr-var-dtype {\n",
       "  grid-column: 3;\n",
       "  text-align: right;\n",
       "  color: var(--xr-font-color2);\n",
       "}\n",
       "\n",
       ".xr-var-preview {\n",
       "  grid-column: 4;\n",
       "}\n",
       "\n",
       ".xr-var-name,\n",
       ".xr-var-dims,\n",
       ".xr-var-dtype,\n",
       ".xr-preview,\n",
       ".xr-attrs dt {\n",
       "  white-space: nowrap;\n",
       "  overflow: hidden;\n",
       "  text-overflow: ellipsis;\n",
       "  padding-right: 10px;\n",
       "}\n",
       "\n",
       ".xr-var-name:hover,\n",
       ".xr-var-dims:hover,\n",
       ".xr-var-dtype:hover,\n",
       ".xr-attrs dt:hover {\n",
       "  overflow: visible;\n",
       "  width: auto;\n",
       "  z-index: 1;\n",
       "}\n",
       "\n",
       ".xr-var-attrs,\n",
       ".xr-var-data {\n",
       "  display: none;\n",
       "  background-color: var(--xr-background-color) !important;\n",
       "  padding-bottom: 5px !important;\n",
       "}\n",
       "\n",
       ".xr-var-attrs-in:checked ~ .xr-var-attrs,\n",
       ".xr-var-data-in:checked ~ .xr-var-data {\n",
       "  display: block;\n",
       "}\n",
       "\n",
       ".xr-var-data > table {\n",
       "  float: right;\n",
       "}\n",
       "\n",
       ".xr-var-name span,\n",
       ".xr-var-data,\n",
       ".xr-attrs {\n",
       "  padding-left: 25px !important;\n",
       "}\n",
       "\n",
       ".xr-attrs,\n",
       ".xr-var-attrs,\n",
       ".xr-var-data {\n",
       "  grid-column: 1 / -1;\n",
       "}\n",
       "\n",
       "dl.xr-attrs {\n",
       "  padding: 0;\n",
       "  margin: 0;\n",
       "  display: grid;\n",
       "  grid-template-columns: 125px auto;\n",
       "}\n",
       "\n",
       ".xr-attrs dt,\n",
       ".xr-attrs dd {\n",
       "  padding: 0;\n",
       "  margin: 0;\n",
       "  float: left;\n",
       "  padding-right: 10px;\n",
       "  width: auto;\n",
       "}\n",
       "\n",
       ".xr-attrs dt {\n",
       "  font-weight: normal;\n",
       "  grid-column: 1;\n",
       "}\n",
       "\n",
       ".xr-attrs dt:hover span {\n",
       "  display: inline-block;\n",
       "  background: var(--xr-background-color);\n",
       "  padding-right: 10px;\n",
       "}\n",
       "\n",
       ".xr-attrs dd {\n",
       "  grid-column: 2;\n",
       "  white-space: pre-wrap;\n",
       "  word-break: break-all;\n",
       "}\n",
       "\n",
       ".xr-icon-database,\n",
       ".xr-icon-file-text2 {\n",
       "  display: inline-block;\n",
       "  vertical-align: middle;\n",
       "  width: 1em;\n",
       "  height: 1.5em !important;\n",
       "  stroke-width: 0;\n",
       "  stroke: currentColor;\n",
       "  fill: currentColor;\n",
       "}\n",
       "</style><pre class='xr-text-repr-fallback'>&lt;xarray.Dataset&gt;\n",
       "Dimensions:     (obs: 121, traj: 144)\n",
       "Dimensions without coordinates: obs, traj\n",
       "Data variables:\n",
       "    trajectory  (traj, obs) float64 0.0 0.0 0.0 0.0 ... 143.0 143.0 143.0 143.0\n",
       "    time        (traj, obs) datetime64[ns] 2021-01-01T00:30:00 ... 2021-01-31...\n",
       "    lat         (traj, obs) float32 -39.17 -39.02 -38.9 ... -39.19 -39.21 -39.25\n",
       "    lon         (traj, obs) float32 22.5 22.55 22.61 22.66 ... 17.16 17.18 17.17\n",
       "    z           (traj, obs) float32 0.0 0.0 0.0 0.0 0.0 ... 0.0 0.0 0.0 0.0 0.0\n",
       "    U           (traj, obs) float32 nan 2.598e-06 ... 1.845e-07 -7.776e-07\n",
       "    V           (traj, obs) float32 nan 5.796e-06 ... -1.211e-06 -2.669e-06\n",
       "Attributes:\n",
       "    feature_type:           trajectory\n",
       "    Conventions:            CF-1.6/CF-1.7\n",
       "    ncei_template_version:  NCEI_NetCDF_Trajectory_Template_v2.0\n",
       "    parcels_version:        2.3.1.dev20+g92f2fb90\n",
       "    parcels_mesh:           spherical</pre><div class='xr-wrap' hidden><div class='xr-header'><div class='xr-obj-type'>xarray.Dataset</div></div><ul class='xr-sections'><li class='xr-section-item'><input id='section-f231c024-1299-4ce5-9dd4-361a771b9a29' class='xr-section-summary-in' type='checkbox' disabled ><label for='section-f231c024-1299-4ce5-9dd4-361a771b9a29' class='xr-section-summary'  title='Expand/collapse section'>Dimensions:</label><div class='xr-section-inline-details'><ul class='xr-dim-list'><li><span>obs</span>: 121</li><li><span>traj</span>: 144</li></ul></div><div class='xr-section-details'></div></li><li class='xr-section-item'><input id='section-becb299a-8013-48d7-90a7-40393cb80de5' class='xr-section-summary-in' type='checkbox' disabled ><label for='section-becb299a-8013-48d7-90a7-40393cb80de5' class='xr-section-summary'  title='Expand/collapse section'>Coordinates: <span>(0)</span></label><div class='xr-section-inline-details'></div><div class='xr-section-details'><ul class='xr-var-list'></ul></div></li><li class='xr-section-item'><input id='section-32872a7d-d201-4a03-8c9d-ca9184a94124' class='xr-section-summary-in' type='checkbox'  checked><label for='section-32872a7d-d201-4a03-8c9d-ca9184a94124' class='xr-section-summary' >Data variables: <span>(7)</span></label><div class='xr-section-inline-details'></div><div class='xr-section-details'><ul class='xr-var-list'><li class='xr-var-item'><div class='xr-var-name'><span>trajectory</span></div><div class='xr-var-dims'>(traj, obs)</div><div class='xr-var-dtype'>float64</div><div class='xr-var-preview xr-preview'>...</div><input id='attrs-1405126b-595a-4e15-b1a9-ba3c9698d0c1' class='xr-var-attrs-in' type='checkbox' ><label for='attrs-1405126b-595a-4e15-b1a9-ba3c9698d0c1' title='Show/Hide attributes'><svg class='icon xr-icon-file-text2'><use xlink:href='#icon-file-text2'></use></svg></label><input id='data-1edcb609-3d41-41fe-bf62-d14db1921761' class='xr-var-data-in' type='checkbox'><label for='data-1edcb609-3d41-41fe-bf62-d14db1921761' title='Show/Hide data repr'><svg class='icon xr-icon-database'><use xlink:href='#icon-database'></use></svg></label><div class='xr-var-attrs'><dl class='xr-attrs'><dt><span>long_name :</span></dt><dd>Unique identifier for each particle</dd><dt><span>cf_role :</span></dt><dd>trajectory_id</dd></dl></div><div class='xr-var-data'><pre>array([[  0.,   0.,   0., ...,   0.,   0.,   0.],\n",
       "       [  1.,   1.,   1., ...,   1.,   1.,   1.],\n",
       "       [  2.,   2.,   2., ...,   2.,   2.,   2.],\n",
       "       ...,\n",
       "       [141., 141., 141., ..., 141., 141., 141.],\n",
       "       [142., 142., 142., ..., 142., 142., 142.],\n",
       "       [143., 143., 143., ..., 143., 143., 143.]])</pre></div></li><li class='xr-var-item'><div class='xr-var-name'><span>time</span></div><div class='xr-var-dims'>(traj, obs)</div><div class='xr-var-dtype'>datetime64[ns]</div><div class='xr-var-preview xr-preview'>...</div><input id='attrs-786e6ce8-6664-4b2a-a89a-3c3bc52d73e6' class='xr-var-attrs-in' type='checkbox' ><label for='attrs-786e6ce8-6664-4b2a-a89a-3c3bc52d73e6' title='Show/Hide attributes'><svg class='icon xr-icon-file-text2'><use xlink:href='#icon-file-text2'></use></svg></label><input id='data-4ab437dc-bc0b-4c63-8453-d7eac518e874' class='xr-var-data-in' type='checkbox'><label for='data-4ab437dc-bc0b-4c63-8453-d7eac518e874' title='Show/Hide data repr'><svg class='icon xr-icon-database'><use xlink:href='#icon-database'></use></svg></label><div class='xr-var-attrs'><dl class='xr-attrs'><dt><span>long_name :</span></dt><dd></dd><dt><span>standard_name :</span></dt><dd>time</dd><dt><span>axis :</span></dt><dd>T</dd></dl></div><div class='xr-var-data'><pre>array([[&#x27;2021-01-01T00:30:00.000000000&#x27;, &#x27;2021-01-01T06:30:00.000000000&#x27;,\n",
       "        &#x27;2021-01-01T12:30:00.000000000&#x27;, ..., &#x27;2021-01-30T12:30:00.000000000&#x27;,\n",
       "        &#x27;2021-01-30T18:30:00.000000000&#x27;, &#x27;2021-01-31T00:30:00.000000000&#x27;],\n",
       "       [&#x27;2021-01-01T00:30:00.000000000&#x27;, &#x27;2021-01-01T06:30:00.000000000&#x27;,\n",
       "        &#x27;2021-01-01T12:30:00.000000000&#x27;, ..., &#x27;2021-01-30T12:30:00.000000000&#x27;,\n",
       "        &#x27;2021-01-30T18:30:00.000000000&#x27;, &#x27;2021-01-31T00:30:00.000000000&#x27;],\n",
       "       [&#x27;2021-01-01T00:30:00.000000000&#x27;, &#x27;2021-01-01T06:30:00.000000000&#x27;,\n",
       "        &#x27;2021-01-01T12:30:00.000000000&#x27;, ..., &#x27;2021-01-30T12:30:00.000000000&#x27;,\n",
       "        &#x27;2021-01-30T18:30:00.000000000&#x27;, &#x27;2021-01-31T00:30:00.000000000&#x27;],\n",
       "       ...,\n",
       "       [&#x27;2021-01-01T00:30:00.000000000&#x27;, &#x27;2021-01-01T06:30:00.000000000&#x27;,\n",
       "        &#x27;2021-01-01T12:30:00.000000000&#x27;, ..., &#x27;2021-01-30T12:30:00.000000000&#x27;,\n",
       "        &#x27;2021-01-30T18:30:00.000000000&#x27;, &#x27;2021-01-31T00:30:00.000000000&#x27;],\n",
       "       [&#x27;2021-01-01T00:30:00.000000000&#x27;, &#x27;2021-01-01T06:30:00.000000000&#x27;,\n",
       "        &#x27;2021-01-01T12:30:00.000000000&#x27;, ..., &#x27;2021-01-30T12:30:00.000000000&#x27;,\n",
       "        &#x27;2021-01-30T18:30:00.000000000&#x27;, &#x27;2021-01-31T00:30:00.000000000&#x27;],\n",
       "       [&#x27;2021-01-01T00:30:00.000000000&#x27;, &#x27;2021-01-01T06:30:00.000000000&#x27;,\n",
       "        &#x27;2021-01-01T12:30:00.000000000&#x27;, ..., &#x27;2021-01-30T12:30:00.000000000&#x27;,\n",
       "        &#x27;2021-01-30T18:30:00.000000000&#x27;, &#x27;2021-01-31T00:30:00.000000000&#x27;]],\n",
       "      dtype=&#x27;datetime64[ns]&#x27;)</pre></div></li><li class='xr-var-item'><div class='xr-var-name'><span>lat</span></div><div class='xr-var-dims'>(traj, obs)</div><div class='xr-var-dtype'>float32</div><div class='xr-var-preview xr-preview'>...</div><input id='attrs-42c0625d-c33e-45a9-b23c-ff92abbe564a' class='xr-var-attrs-in' type='checkbox' ><label for='attrs-42c0625d-c33e-45a9-b23c-ff92abbe564a' title='Show/Hide attributes'><svg class='icon xr-icon-file-text2'><use xlink:href='#icon-file-text2'></use></svg></label><input id='data-9f5dd5ca-a675-4ac0-a0c5-669eacd0739d' class='xr-var-data-in' type='checkbox'><label for='data-9f5dd5ca-a675-4ac0-a0c5-669eacd0739d' title='Show/Hide data repr'><svg class='icon xr-icon-database'><use xlink:href='#icon-database'></use></svg></label><div class='xr-var-attrs'><dl class='xr-attrs'><dt><span>long_name :</span></dt><dd></dd><dt><span>standard_name :</span></dt><dd>latitude</dd><dt><span>units :</span></dt><dd>degrees_north</dd><dt><span>axis :</span></dt><dd>Y</dd></dl></div><div class='xr-var-data'><pre>array([[-39.166668, -39.023876, -38.904987, ..., -37.456646, -37.43389 ,\n",
       "        -37.488907],\n",
       "       [-39.166668, -39.055485, -39.003204, ..., -38.98379 , -38.98158 ,\n",
       "        -38.997955],\n",
       "       [-39.166668, -39.209393, -39.376793, ..., -40.00204 , -40.010117,\n",
       "        -40.02809 ],\n",
       "       ...,\n",
       "       [-34.583332, -34.773434, -35.00076 , ..., -34.65815 , -34.588226,\n",
       "        -34.52226 ],\n",
       "       [-34.583332, -34.66703 , -34.7913  , ..., -39.15673 , -39.334305,\n",
       "        -39.513103],\n",
       "       [-34.583332, -34.587185, -34.60994 , ..., -39.193733, -39.211082,\n",
       "        -39.25398 ]], dtype=float32)</pre></div></li><li class='xr-var-item'><div class='xr-var-name'><span>lon</span></div><div class='xr-var-dims'>(traj, obs)</div><div class='xr-var-dtype'>float32</div><div class='xr-var-preview xr-preview'>...</div><input id='attrs-039eb167-2bec-4fba-b187-02b1e79cda0f' class='xr-var-attrs-in' type='checkbox' ><label for='attrs-039eb167-2bec-4fba-b187-02b1e79cda0f' title='Show/Hide attributes'><svg class='icon xr-icon-file-text2'><use xlink:href='#icon-file-text2'></use></svg></label><input id='data-f751dcbe-7bd8-4586-a356-bf01d0eeb727' class='xr-var-data-in' type='checkbox'><label for='data-f751dcbe-7bd8-4586-a356-bf01d0eeb727' title='Show/Hide data repr'><svg class='icon xr-icon-database'><use xlink:href='#icon-database'></use></svg></label><div class='xr-var-attrs'><dl class='xr-attrs'><dt><span>long_name :</span></dt><dd></dd><dt><span>standard_name :</span></dt><dd>longitude</dd><dt><span>units :</span></dt><dd>degrees_east</dd><dt><span>axis :</span></dt><dd>X</dd></dl></div><div class='xr-var-data'><pre>array([[22.5     , 22.547514, 22.607336, ..., 26.906063, 26.797806, 26.698011],\n",
       "       [22.916666, 23.089357, 23.296543, ..., 27.901531, 28.012968, 28.164171],\n",
       "       [23.333334, 23.61503 , 23.908384, ..., 27.667067, 27.645962, 27.643606],\n",
       "       ...,\n",
       "       [26.25    , 25.866007, 25.449963, ..., 17.211655, 17.284988, 17.336267],\n",
       "       [26.666666, 26.344868, 25.925909, ..., 13.803558, 13.742613, 13.677705],\n",
       "       [27.083334, 26.926388, 26.71817 , ..., 17.15514 , 17.17541 , 17.166965]],\n",
       "      dtype=float32)</pre></div></li><li class='xr-var-item'><div class='xr-var-name'><span>z</span></div><div class='xr-var-dims'>(traj, obs)</div><div class='xr-var-dtype'>float32</div><div class='xr-var-preview xr-preview'>...</div><input id='attrs-bbad2bb3-a678-431d-84f8-837a86bf7e58' class='xr-var-attrs-in' type='checkbox' ><label for='attrs-bbad2bb3-a678-431d-84f8-837a86bf7e58' title='Show/Hide attributes'><svg class='icon xr-icon-file-text2'><use xlink:href='#icon-file-text2'></use></svg></label><input id='data-1f852338-c5ca-4b4e-a12f-db27fa1780fc' class='xr-var-data-in' type='checkbox'><label for='data-1f852338-c5ca-4b4e-a12f-db27fa1780fc' title='Show/Hide data repr'><svg class='icon xr-icon-database'><use xlink:href='#icon-database'></use></svg></label><div class='xr-var-attrs'><dl class='xr-attrs'><dt><span>long_name :</span></dt><dd></dd><dt><span>standard_name :</span></dt><dd>depth</dd><dt><span>units :</span></dt><dd>m</dd><dt><span>positive :</span></dt><dd>down</dd></dl></div><div class='xr-var-data'><pre>array([[0., 0., 0., ..., 0., 0., 0.],\n",
       "       [0., 0., 0., ..., 0., 0., 0.],\n",
       "       [0., 0., 0., ..., 0., 0., 0.],\n",
       "       ...,\n",
       "       [0., 0., 0., ..., 0., 0., 0.],\n",
       "       [0., 0., 0., ..., 0., 0., 0.],\n",
       "       [0., 0., 0., ..., 0., 0., 0.]], dtype=float32)</pre></div></li><li class='xr-var-item'><div class='xr-var-name'><span>U</span></div><div class='xr-var-dims'>(traj, obs)</div><div class='xr-var-dtype'>float32</div><div class='xr-var-preview xr-preview'>...</div><input id='attrs-549670ac-b519-44e2-a208-d95c05f1eed6' class='xr-var-attrs-in' type='checkbox' ><label for='attrs-549670ac-b519-44e2-a208-d95c05f1eed6' title='Show/Hide attributes'><svg class='icon xr-icon-file-text2'><use xlink:href='#icon-file-text2'></use></svg></label><input id='data-b0a4b5ad-f9d9-4009-8d80-af15602735e7' class='xr-var-data-in' type='checkbox'><label for='data-b0a4b5ad-f9d9-4009-8d80-af15602735e7' title='Show/Hide data repr'><svg class='icon xr-icon-database'><use xlink:href='#icon-database'></use></svg></label><div class='xr-var-attrs'><dl class='xr-attrs'><dt><span>long_name :</span></dt><dd></dd><dt><span>standard_name :</span></dt><dd>U</dd><dt><span>units :</span></dt><dd>unknown</dd></dl></div><div class='xr-var-data'><pre>array([[          nan,  2.597646e-06,  2.767847e-06, ..., -3.317469e-06,\n",
       "        -5.994304e-06, -2.201192e-06],\n",
       "       [          nan,  8.876400e-06,  1.002607e-05, ...,  5.008096e-06,\n",
       "         5.821934e-06,  7.830603e-06],\n",
       "       [          nan,  1.393304e-05,  1.235174e-05, ..., -8.949883e-07,\n",
       "        -6.879567e-07,  1.717140e-07],\n",
       "       ...,\n",
       "       [          nan, -1.905466e-05, -1.861986e-05, ...,  3.830198e-06,\n",
       "         2.962539e-06,  1.925747e-06],\n",
       "       [          nan, -1.713974e-05, -2.094000e-05, ..., -2.493254e-06,\n",
       "        -3.214069e-06, -2.799593e-06],\n",
       "       [          nan, -8.068844e-06, -1.109233e-05, ...,  1.658384e-06,\n",
       "         1.844593e-07, -7.776144e-07]], dtype=float32)</pre></div></li><li class='xr-var-item'><div class='xr-var-name'><span>V</span></div><div class='xr-var-dims'>(traj, obs)</div><div class='xr-var-dtype'>float32</div><div class='xr-var-preview xr-preview'>...</div><input id='attrs-b212ef76-e058-4a9f-868e-44363d66c66d' class='xr-var-attrs-in' type='checkbox' ><label for='attrs-b212ef76-e058-4a9f-868e-44363d66c66d' title='Show/Hide attributes'><svg class='icon xr-icon-file-text2'><use xlink:href='#icon-file-text2'></use></svg></label><input id='data-200ced2a-6fc1-47de-a724-96ae26f87598' class='xr-var-data-in' type='checkbox'><label for='data-200ced2a-6fc1-47de-a724-96ae26f87598' title='Show/Hide data repr'><svg class='icon xr-icon-database'><use xlink:href='#icon-database'></use></svg></label><div class='xr-var-attrs'><dl class='xr-attrs'><dt><span>long_name :</span></dt><dd></dd><dt><span>standard_name :</span></dt><dd>V</dd><dt><span>units :</span></dt><dd>unknown</dd></dl></div><div class='xr-var-data'><pre>array([[          nan,  5.795511e-06,  5.306074e-06, ...,  1.302789e-06,\n",
       "        -1.119043e-07, -4.836137e-06],\n",
       "       [          nan,  3.527368e-06,  1.323293e-06, ...,  9.175749e-07,\n",
       "        -6.233992e-07, -4.962131e-07],\n",
       "       [          nan, -4.892519e-06, -1.079000e-05, ...,  1.360431e-07,\n",
       "        -8.286600e-07, -6.589117e-07],\n",
       "       ...,\n",
       "       [          nan, -8.928485e-06, -1.232287e-05, ...,  3.249278e-06,\n",
       "         3.223366e-06,  2.770371e-06],\n",
       "       [          nan, -4.034645e-06, -8.001747e-06, ..., -7.918349e-06,\n",
       "        -8.593543e-06, -7.880011e-06],\n",
       "       [          nan,  5.917896e-08, -2.591159e-06, ..., -6.002495e-07,\n",
       "        -1.211249e-06, -2.668733e-06]], dtype=float32)</pre></div></li></ul></div></li><li class='xr-section-item'><input id='section-f091b893-86d1-4160-a1c9-f90e5ee6ee60' class='xr-section-summary-in' type='checkbox'  checked><label for='section-f091b893-86d1-4160-a1c9-f90e5ee6ee60' class='xr-section-summary' >Attributes: <span>(5)</span></label><div class='xr-section-inline-details'></div><div class='xr-section-details'><dl class='xr-attrs'><dt><span>feature_type :</span></dt><dd>trajectory</dd><dt><span>Conventions :</span></dt><dd>CF-1.6/CF-1.7</dd><dt><span>ncei_template_version :</span></dt><dd>NCEI_NetCDF_Trajectory_Template_v2.0</dd><dt><span>parcels_version :</span></dt><dd>2.3.1.dev20+g92f2fb90</dd><dt><span>parcels_mesh :</span></dt><dd>spherical</dd></dl></div></li></ul></div></div>"
      ],
      "text/plain": [
       "<xarray.Dataset>\n",
       "Dimensions:     (obs: 121, traj: 144)\n",
       "Dimensions without coordinates: obs, traj\n",
       "Data variables:\n",
       "    trajectory  (traj, obs) float64 ...\n",
       "    time        (traj, obs) datetime64[ns] ...\n",
       "    lat         (traj, obs) float32 ...\n",
       "    lon         (traj, obs) float32 ...\n",
       "    z           (traj, obs) float32 ...\n",
       "    U           (traj, obs) float32 ...\n",
       "    V           (traj, obs) float32 ...\n",
       "Attributes:\n",
       "    feature_type:           trajectory\n",
       "    Conventions:            CF-1.6/CF-1.7\n",
       "    ncei_template_version:  NCEI_NetCDF_Trajectory_Template_v2.0\n",
       "    parcels_version:        2.3.1.dev20+g92f2fb90\n",
       "    parcels_mesh:           spherical"
      ]
     },
     "execution_count": 7,
     "metadata": {},
     "output_type": "execute_result"
    }
   ],
   "source": [
    "ds"
   ]
  },
  {
   "cell_type": "markdown",
   "metadata": {},
   "source": [
    "### 2. Calculating the GKDE"
   ]
  },
  {
   "cell_type": "markdown",
   "metadata": {},
   "source": [
    "### 2.1. Loading the functions"
   ]
  },
  {
   "cell_type": "code",
   "execution_count": 8,
   "metadata": {},
   "outputs": [],
   "source": [
    "sys.path.insert(0, filedir_root + \"Lagrangian_diags/Diagnostics/Functions/\")"
   ]
  },
  {
   "cell_type": "code",
   "execution_count": 9,
   "metadata": {},
   "outputs": [],
   "source": [
    "import GKDE_01"
   ]
  },
  {
   "cell_type": "code",
   "execution_count": 10,
   "metadata": {},
   "outputs": [
    {
     "name": "stdout",
     "output_type": "stream",
     "text": [
      "import numpy as np\n",
      "from scipy.stats import gaussian_kde\n",
      "\n",
      "def rem_nans(ds):\n",
      "    \"\"\"\n",
      "    This renders lon and lat variables without nans for the last timestep.\n",
      "    \"\"\"\n",
      "    bad_indices = np.isnan(ds['lon'][:,-1]) | np.isnan(ds['lat'][:,-1])\n",
      "    good_indices = ~bad_indices\n",
      "    lon_end_nonans = ds['lon'][:,-1][good_indices]\n",
      "    lat_end_nonans = ds['lat'][:,-1][good_indices]\n",
      "    \n",
      "    return lon_end_nonans, lat_end_nonans\n",
      "\n",
      "def kde_vals(lon_end_nonans, lat_end_nonans):\n",
      "    \"\"\"\n",
      "    Calculates the KDE values and sorts x (lon) and y (lat) in function of z (KDE)\n",
      "    \n",
      "    Inputs :\n",
      "    - lon_end_nonans : Longitude values free of nans\n",
      "    - lat_end_nonans : Latitude values free of nans\n",
      "    \n",
      "    Outputs: \n",
      "    - x : longitude values\n",
      "    - y : latitude values\n",
      "    - z : KDE values\n",
      "    \"\"\"\n",
      "    x = lon_end_nonans.copy()\n",
      "    y = lat_end_nonans.copy()\n",
      "    \n",
      "    xy = np.vstack([x, y])\n",
      "    z = gaussian_kde(xy)(xy)\n",
      "\n",
      "    idx = z.argsort()\n",
      "    x, y, z = x[idx], y[idx], z[idx]\n",
      "    \n",
      "    return x, y, z\n",
      "\n",
      "def kde_parcels(ds, nsavedir=None):\n",
      "    \"\"\"\n",
      "    Inputs\n",
      "    ds : xarray dataset of the parcels output netcdf file\n",
      "    nsavedir: directory where to save the outputs. By default it is None, and will not save outputs.  \n",
      "    If outputs want to be saved specify directory, \n",
      "    for example: '/data/oceanparcels/output_data/data_LauraGN/outputs_parcels/kde_calcs/'\n",
      "    \n",
      "    Outputs\n",
      "    KDE for the las timestep fields of lon and lat\n",
      "    \"\"\"\n",
      "\n",
      "    # Remove nans:\n",
      "    lon_end_nonans, lat_end_nonans = rem_nans(ds)\n",
      "\n",
      "    kde_x, kde_y, kde_z = kde_vals(lon_end_nonans, lat_end_nonans)\n",
      "    \n",
      "    if nsavedir:\n",
      "        savename = savedir + 'KDE_' + nfile.split('/')[-1].split('.nc')[0] + '.npz'\n",
      "        np.savez(savename, kde_x=kde_x, kde_y=kde_y, kde_z=kde_z)        \n",
      "\n",
      "    return kde_x, kde_y, kde_z\n",
      "\n"
     ]
    }
   ],
   "source": [
    "print(inspect.getsource(GKDE_01))"
   ]
  },
  {
   "cell_type": "markdown",
   "metadata": {},
   "source": [
    "### 2.2. Applying the GKDE functions"
   ]
  },
  {
   "cell_type": "code",
   "execution_count": 11,
   "metadata": {},
   "outputs": [],
   "source": [
    "kde_x, kde_y, kde_z = GKDE_01.kde_parcels(ds)\n"
   ]
  },
  {
   "cell_type": "markdown",
   "metadata": {},
   "source": [
    "### 3. Plotting the outputs"
   ]
  },
  {
   "cell_type": "markdown",
   "metadata": {},
   "source": [
    "### 3.1. Plotting cumulative distance evolution in time for the first 10 particle trajectories"
   ]
  },
  {
   "cell_type": "code",
   "execution_count": 13,
   "metadata": {},
   "outputs": [
    {
     "data": {
      "image/png": "[encoded data removed]",
      "text/plain": [
       "<Figure size 1152x1224 with 2 Axes>"
      ]
     },
     "metadata": {
      "needs_background": "light"
     },
     "output_type": "display_data"
    }
   ],
   "source": [
    "fig = plt.figure(figsize=(16,17)) #(17,5)\n",
    "\n",
    "cbar_ticks = [0.005, 0.006, 0.007, 0.008, 0.009] \n",
    "\n",
    "ax1 = plt.subplot(111, projection=ccrs.PlateCarree())\n",
    "    \n",
    "#     ax1.set_xlim([-35.1, -18])\n",
    "#     ax1.set_ylim([29.9, 40])\n",
    "\n",
    "ss = ax1.scatter(kde_x, kde_y, c=kde_z, s=10, vmin=cbar_ticks[0], vmax=cbar_ticks[-1], cmap=plt.cm.get_cmap('viridis', len(cbar_ticks)-1), transform=ccrs.PlateCarree())\n",
    "ss.cmap.set_over('r')\n",
    "ss.cmap.set_under('gray')\n",
    "\n",
    "ax1.coastlines(resolution='50m', color='black', linewidth=1, zorder=50)\n",
    "ax1.add_feature(cartopy.feature.LAND, facecolor='burlywood', zorder=20) \n",
    "    \n",
    "gl = ax1.gridlines(crs=ccrs.PlateCarree(), draw_labels=True)\n",
    "gl.top_labels = False\n",
    "gl.right_labels = False\n",
    "gl.xformatter = LONGITUDE_FORMATTER\n",
    "gl.yformatter = LATITUDE_FORMATTER\n",
    "gl.ylocator = mticker.FixedLocator([-42., -40., -38., -36., -34.])\n",
    "gl.xlabel_style = {'size': 12}\n",
    "gl.ylabel_style = {'size': 12}\n",
    "\n",
    "cbar = plt.colorbar(ss, extend='both', orientation='horizontal')\n",
    "cbar.ax.get_yaxis().labelpad = 15\n",
    "cbar.ax.set_xlabel('Gaussian Kernel Density Estimation', size=14) #, rotation = 270\n",
    "\n",
    "plt.show()\n"
   ]
  },
  {
   "cell_type": "markdown",
   "metadata": {},
   "source": [
    "***--> in this test case the GKDE does not show so clearly the accumulation zones as more particles should be released in the region of study***"
   ]
  },
  {
   "cell_type": "markdown",
   "metadata": {},
   "source": [
    "### 4. Quantification"
   ]
  },
  {
   "cell_type": "markdown",
   "metadata": {},
   "source": [
    "A way to quantify then the above plot is to calculate the percentage of particles with a \"high\" GKDE value, that we choose it to be 0.008"
   ]
  },
  {
   "cell_type": "markdown",
   "metadata": {},
   "source": [
    "* first check if any particles deleted:"
   ]
  },
  {
   "cell_type": "code",
   "execution_count": 17,
   "metadata": {},
   "outputs": [
    {
     "data": {
      "text/plain": [
       "array([26.698011, 28.164171, 27.643606, 24.718645, 37.995255, 29.234638,\n",
       "       38.174526, 38.089085, 36.386173, 36.925137, 37.271023, 27.692135,\n",
       "       34.057995, 33.911255, 36.052097, 27.156801, 37.874683, 25.212149,\n",
       "       44.984165, 32.263596, 29.785528, 36.0202  , 33.17997 , 30.311327,\n",
       "       23.818752, 25.614098, 24.09303 , 35.909134, 35.44305 , 24.450853,\n",
       "       38.81421 , 31.958689, 34.563725, 33.417557, 33.89991 , 32.049088,\n",
       "       21.763323, 14.18421 , 22.636242, 34.797607, 24.023075, 24.054976,\n",
       "       31.82561 , 45.362434, 45.066288, 45.34612 , 35.21189 , 35.262207,\n",
       "       26.059761, 15.283366, 24.001287, 22.936937, 22.500818, 24.380352,\n",
       "       21.790487, 21.282694, 34.865032, 45.920753, 45.098103, 34.195713,\n",
       "       22.949871, 13.661928, 27.963894, 23.287018, 23.10574 , 21.98923 ,\n",
       "       24.398281, 29.69943 , 30.03786 , 28.911987, 35.554043, 36.454082,\n",
       "       24.802662, 15.132946, 15.482158, 14.75911 , 22.573833, 23.885687,\n",
       "       21.990768, 23.868902, 23.409975, 22.211067, 27.914537, 30.84707 ,\n",
       "       27.61835 , 22.490934, 21.765697, 13.951972, 16.424952, 24.541779,\n",
       "       24.06132 , 29.723223, 34.884018, 36.20441 , 37.77424 , 40.68846 ,\n",
       "       18.142883, 22.070595, 24.364391, 27.339596, 27.215214, 26.326141,\n",
       "       23.880114, 22.573923, 22.02631 , 29.564281, 30.349543, 29.307894,\n",
       "       20.394741, 20.46407 , 23.062609, 23.215126, 19.929914, 15.229213,\n",
       "       20.331572, 24.010874, 22.541416, 26.053875, 23.698732, 28.86736 ,\n",
       "       16.703207, 20.428095, 14.482446, 16.92354 , 16.34547 , 15.432422,\n",
       "       18.356052, 18.807606, 30.947237, 13.901372, 22.827028, 19.978989,\n",
       "       19.663671, 17.329836, 17.753399, 17.171776, 16.870941, 17.327799,\n",
       "       17.529312, 18.485256, 18.942495, 17.336267, 13.677705, 17.166965],\n",
       "      dtype=float32)"
      ]
     },
     "execution_count": 17,
     "metadata": {},
     "output_type": "execute_result"
    }
   ],
   "source": [
    "ds['lon'][:,-1].values"
   ]
  },
  {
   "cell_type": "markdown",
   "metadata": {},
   "source": [
    "* we calculate now the percentage of particles with a high GKDE value:"
   ]
  },
  {
   "cell_type": "code",
   "execution_count": 18,
   "metadata": {},
   "outputs": [
    {
     "data": {
      "text/plain": [
       "26.39"
      ]
     },
     "execution_count": 18,
     "metadata": {},
     "output_type": "execute_result"
    }
   ],
   "source": [
    "nondelp = sum(~np.isnan(ds['lon'][:,-1].data)) # calculating the total non-nan particles (none present in this \n",
    "                                               # test case , but there could be some particles that values are\n",
    "                                               # nan due to for example boundary conditions)\n",
    "\n",
    "perc_high = np.round(((np.count_nonzero(kde_z >= 0.008)) / nondelp) * 100, 2)\n",
    "perc_high"
   ]
  },
  {
   "cell_type": "code",
   "execution_count": null,
   "metadata": {},
   "outputs": [],
   "source": []
  }
 ],
 "metadata": {
  "kernelspec": {
   "display_name": "Python 3 (ipykernel)",
   "language": "python",
   "name": "python3"
  },
  "language_info": {
   "codemirror_mode": {
    "name": "ipython",
    "version": 3
   },
   "file_extension": ".py",
   "mimetype": "text/x-python",
   "name": "python",
   "nbconvert_exporter": "python",
   "pygments_lexer": "ipython3",
   "version": "3.9.18"
  }
 },
 "nbformat": 4,
 "nbformat_minor": 4
}
