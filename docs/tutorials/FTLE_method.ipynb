{
 "cells": [
  {
   "attachments": {},
   "cell_type": "markdown",
   "metadata": {},
   "source": [
    "# Finite-Time Lyapunov Exponents\n",
    "\n",
    "Code taken from <a href=\"https://github.com/LauraGomezNavarro/OceanParcels_Lyapunov\" target=\"_blank\">here</a> "
   ]
  },
  {
   "cell_type": "code",
   "execution_count": 1,
   "metadata": {},
   "outputs": [
    {
     "name": "stdout",
     "output_type": "stream",
     "text": [
      "Sun Sep 21 18:59:47 2025\n"
     ]
    }
   ],
   "source": [
    "import time\n",
    "print(time.ctime(time.time()))"
   ]
  },
  {
   "attachments": {},
   "cell_type": "markdown",
   "metadata": {},
   "source": [
    "### 0. Import packages"
   ]
  },
  {
   "cell_type": "code",
   "execution_count": 2,
   "metadata": {},
   "outputs": [],
   "source": [
    "import numpy as np\n",
    "import xarray as xr\n",
    "import matplotlib.pyplot as plt\n",
    "import cartopy.crs as ccrs\n",
    "import cartopy.feature as features\n",
    "from matplotlib import colors\n",
    "import sys\n",
    "from tqdm import tqdm"
   ]
  },
  {
   "attachments": {},
   "cell_type": "markdown",
   "metadata": {},
   "source": [
    "### 1. Loading data"
   ]
  },
  {
   "cell_type": "code",
   "execution_count": 3,
   "metadata": {},
   "outputs": [],
   "source": [
    "DATA_FOLDER = '../../Simulations'"
   ]
  },
  {
   "cell_type": "markdown",
   "metadata": {},
   "source": [
    "**Td: Time in days selected to get the location of particles after release**"
   ]
  },
  {
   "cell_type": "code",
   "execution_count": 4,
   "metadata": {},
   "outputs": [],
   "source": [
    "Td=15"
   ]
  },
  {
   "cell_type": "code",
   "execution_count": 5,
   "metadata": {},
   "outputs": [],
   "source": [
    "import numpy as np  \n",
    "import numpy.linalg as LA\n",
    "\n",
    "\n",
    "import numpy as np\n",
    "\n",
    "\n",
    "def haversine_displacement(inlon1, inlon2, inlat1, inlat2):\n",
    "    \"\"\"\n",
    "    Parallelised code from - Michael Denes\n",
    "    Calculate the great circle distance between two points\n",
    "    on the earth (specified in decimal degrees)\n",
    "    \"\"\"\n",
    "\n",
    "    #Convert decimal degrees to Radians:\n",
    "    lon1 = np.radians(inlon1)\n",
    "    lat1 = np.radians(inlat1)\n",
    "    lon2 = np.radians(inlon2)\n",
    "    lat2 = np.radians(inlat2)\n",
    "\n",
    "    # if np.isnan([lon1, lon2, lat1, lat2]).any():\n",
    "    #     return mask_value\n",
    "    #Implementing Haversine Formula:\n",
    "    dlon = np.subtract(lon2, lon1)\n",
    "    dlat = np.subtract(lat2, lat1)\n",
    "\n",
    "    a = np.add(np.power(np.sin(np.divide(dlat, 2)), 2),\n",
    "                          np.multiply(np.cos(lat1),\n",
    "                                      np.multiply(np.cos(lat2),\n",
    "                                                  np.power(np.sin(np.divide(dlon, 2)), 2))))\n",
    "    c = np.multiply(2, np.arcsin(np.sqrt(a)))\n",
    "    return c\n",
    "\n",
    "def ftle_brunton_2009(J, Td):\n",
    "    # http://cwrowley.princeton.edu/papers/BruntonChaos09.pdf\n",
    "    D = np.dot(np.transpose(J), J)  # Cauchy–Green strain tensor\n",
    "    lamda = LA.eigvals(D)\n",
    "    lam_max = max(lamda)\n",
    "    ftle = (1/Td)*np.log(np.sqrt(lam_max))\n",
    "    return ftle\n",
    "\n",
    "\n",
    "def ftle_compute(x0, y0, x1, y1, Td):\n",
    "    \"\"\"Compute Finite-time Lyaponov Exponent function from locations of Lagrangian trajectories at the intial and a later timestep\n",
    "\n",
    "    Parameters\n",
    "    ----------\n",
    "    x0: meshgrid of initial longitude points\n",
    "    y0: meshgrid of initial latitude points\n",
    "    x1: meshgrid of final longitude points\n",
    "    y1: meshgrid of final latitude points\n",
    "    Td : number of days between inital and final timestamps\n",
    "\n",
    "    Returns\n",
    "    -------\n",
    "    2D array\n",
    "    Computed FTLE for the whole set of points\n",
    "    \"\"\"\n",
    "    H = x0.shape[0]\n",
    "    L = x1.shape[1]\n",
    "\n",
    "    FTLE_f = np.ones_like(np.asarray(x0))\n",
    "    FTLE_f[:, :] = np.nan\n",
    "\n",
    "    J = np.empty([2, 2], float)\n",
    "\n",
    "    # 1, H-1 --> to ignore bordersx for now\n",
    "    for i in range(1, H - 1):  # 0, H-2\n",
    "        for j in range(1, L - 1):  # 0, L-2\n",
    "            J[:, :] = np.nan\n",
    "            ls = np.array((x0[i, j], y0[i, j],\n",
    "                        x0[i - 1, j], y0[i - 1, j],\n",
    "                        x0[i, j - 1], y0[i, j - 1],\n",
    "                        x0[i, j + 1], y0[i, j + 1],\n",
    "                        x0[i + 1, j], y0[i + 1, j],\n",
    "                        x1[i, j], y1[i, j],\n",
    "                        x1[i - 1, j], y1[i - 1, j],\n",
    "                        x1[i, j - 1], y1[i, j - 1],\n",
    "                        x1[i, j + 1], y1[i, j + 1],\n",
    "                        x1[i + 1, j], y1[i + 1, j]))\n",
    "            if np.isnan(ls).any():\n",
    "                continue\n",
    "\n",
    "            J[0][0] = haversine_displacement(x1[i, j], x1[i - 1, j], y1[i, j], y1[i - 1, j]) / \\\n",
    "                haversine_displacement(x0[i, j], x0[i - 1, j], y0[i, j], y0[i - 1, j])\n",
    "            J[0][1] = haversine_displacement(x1[i, j], x1[i, j - 1], y1[i, j], y1[i, j - 1]) / \\\n",
    "                haversine_displacement(x0[i, j], x0[i, j - 1], y0[i, j], y0[i, j - 1])\n",
    "            J[1][0] = haversine_displacement(x1[i, j], x1[i, j + 1], y1[i, j], y1[i, j + 1]) / \\\n",
    "                haversine_displacement(x0[i, j], x0[i, j + 1], y0[i, j], y0[i, j + 1])\n",
    "            J[1][1] = haversine_displacement(x1[i, j], x1[i + 1, j], y1[i, j], y1[i + 1, j]) / \\\n",
    "                haversine_displacement(x0[i, j], x0[i + 1, j], y0[i, j], y0[i + 1, j])\n",
    "            f_value = ftle_brunton_2009(J, Td)\n",
    "            FTLE_f[i][j] = f_value\n",
    "\n",
    "    print(np.nanmin(FTLE_f), np.nanmax(FTLE_f))\n",
    "    return FTLE_f\n"
   ]
  },
  {
   "cell_type": "code",
   "execution_count": 6,
   "metadata": {},
   "outputs": [],
   "source": [
    "\n",
    "ds = xr.open_dataset(DATA_FOLDER + '/toy_data_01.nc')"
   ]
  },
  {
   "cell_type": "markdown",
   "metadata": {},
   "source": [
    "Get release particles from the meshgrid for release particles "
   ]
  },
  {
   "cell_type": "code",
   "execution_count": 7,
   "metadata": {},
   "outputs": [],
   "source": [
    "# hard coded here, as its not possible to tell from the parcels output files itself.\n",
    "coords0, coords1 = 12, 12\n",
    "\n",
    "# initial position\n",
    "x0 = np.reshape(ds['lon'][:,0].data, (coords0, coords1))\n",
    "y0 = np.reshape(ds['lat'][:,0].data, (coords0, coords1)) \n",
    "\n",
    "# final position\n",
    "x1 = np.reshape(ds['lon'][:,-1].data, (coords0, coords1))\n",
    "y1 = np.reshape(ds['lat'][:,-1].data, (coords0, coords1))"
   ]
  },
  {
   "cell_type": "code",
   "execution_count": 8,
   "metadata": {},
   "outputs": [],
   "source": [
    "H = x0.shape[0]\n",
    "L = x1.shape[1]\n",
    "FTLE_f = np.ones_like(np.asarray(x0))\n",
    "FTLE_f[:,:] = np.nan"
   ]
  },
  {
   "cell_type": "markdown",
   "metadata": {},
   "source": [
    "### 2. Estimate FTLE"
   ]
  },
  {
   "cell_type": "code",
   "execution_count": 9,
   "metadata": {},
   "outputs": [
    {
     "name": "stdout",
     "output_type": "stream",
     "text": [
      "0.13078183 0.27300894\n"
     ]
    }
   ],
   "source": [
    "ftle_array = ftle_compute(x0, y0, x1, y1, Td)"
   ]
  },
  {
   "cell_type": "markdown",
   "metadata": {},
   "source": [
    "### 3. Plotting\n",
    "Plot FTLE values at the release locations"
   ]
  },
  {
   "cell_type": "code",
   "execution_count": 10,
   "metadata": {},
   "outputs": [
    {
     "data": {
      "image/png": "[encoded data removed]",
      "text/plain": [
       "<Figure size 800x400 with 2 Axes>"
      ]
     },
     "metadata": {},
     "output_type": "display_data"
    }
   ],
   "source": [
    "# ftle_array = ftle_compute(x0,y0,x1,y1, Td)\n",
    "fig = plt.figure(figsize=(8,4))\n",
    "ax = plt.axes(projection=ccrs.PlateCarree())\n",
    "ax.add_feature(features.LAND)\n",
    "ax.add_feature(features.COASTLINE)\n",
    "plt.scatter(ds['lon'][:,0], ds['lat'][:,0], c=ftle_array, cmap='Reds', s=3)\n",
    "ax.set_xlim(10, 47)\n",
    "ax.set_ylim(-47, -25)\n",
    "cbar = plt.colorbar()\n",
    "cbar.set_label(\"FTLE (1/days)\")\n"
   ]
  },
  {
   "cell_type": "markdown",
   "metadata": {},
   "source": [
    "**Land mass in the release grid**\n",
    "\n",
    "If the region you are interested in also has a land mass, you can do the following:\n",
    "\n",
    "1. Create a regular array of particle locations over the whole area (land and water).\n",
    "2. Use the land mask from the ocean model data to create a boolean matrix corresponding to the released particles and extract the ocean only particles.\n",
    "3. After the simulation, use the boolean mask array to map the released particles initial (and final) locations to an array of the boolean matrix shape. Non-ocean particles are set to NAN.\n"
   ]
  },
  {
   "cell_type": "code",
   "execution_count": null,
   "metadata": {},
   "outputs": [],
   "source": []
  }
 ],
 "metadata": {
  "kernelspec": {
   "display_name": "lagrangian_diags",
   "language": "python",
   "name": "python3"
  },
  "language_info": {
   "codemirror_mode": {
    "name": "ipython",
    "version": 3
   },
   "file_extension": ".py",
   "mimetype": "text/x-python",
   "name": "python",
   "nbconvert_exporter": "python",
   "pygments_lexer": "ipython3",
   "version": "3.11.13"
  }
 },
 "nbformat": 4,
 "nbformat_minor": 4
}
