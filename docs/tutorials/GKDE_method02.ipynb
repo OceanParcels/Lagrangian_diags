{
 "cells": [
  {
   "cell_type": "markdown",
   "id": "21f59b13",
   "metadata": {},
   "source": [
    "# Gaussian Kernel Density Estimation (method 2: with land mask)"
   ]
  },
  {
   "cell_type": "markdown",
   "id": "bb2c188e",
   "metadata": {},
   "source": [
    "This code uses the KDE function from sci-kit learn package to find the smoothing curve over the 2D histogram of particle counts in the horizontal plane and plots it over a grid with the same resolution as the particles' trajectories.\n",
    "\n",
    "It takes into account the grid cells that are over land to avoid unrealistic results."
   ]
  },
  {
   "cell_type": "markdown",
   "id": "420abf33",
   "metadata": {},
   "source": [
    "-Author: Jimena Medina Rubio\n",
    "\n",
    "-Created on: 18/03/2023"
   ]
  },
  {
   "cell_type": "markdown",
   "id": "735675c2",
   "metadata": {},
   "source": [
    "### 0. Imports and package versions"
   ]
  },
  {
   "cell_type": "code",
   "execution_count": 1,
   "id": "c3ba9f66",
   "metadata": {},
   "outputs": [],
   "source": [
    "import numpy as np\n",
    "import xarray as xr\n",
    "import matplotlib.pyplot as plt\n",
    "import cartopy\n",
    "import cartopy.crs as ccrs\n",
    "import cmocean\n",
    "import cmocean.cm as cmo\n",
    "import pandas as pd\n",
    "from scipy.interpolate import griddata\n",
    "from sklearn.neighbors import KernelDensity\n",
    "from sklearn.model_selection import GridSearchCV"
   ]
  },
  {
   "cell_type": "markdown",
   "id": "bb7a48ca",
   "metadata": {},
   "source": [
    "### 1. Loading the data"
   ]
  },
  {
   "cell_type": "code",
   "execution_count": 2,
   "id": "98d8a8b0",
   "metadata": {},
   "outputs": [
    {
     "name": "stdout",
     "output_type": "stream",
     "text": [
      "<bound method Mapping.keys of <xarray.Dataset> Size: 627kB\n",
      "Dimensions:     (traj: 144, obs: 121)\n",
      "Dimensions without coordinates: traj, obs\n",
      "Data variables:\n",
      "    trajectory  (traj, obs) float64 139kB ...\n",
      "    time        (traj, obs) datetime64[ns] 139kB ...\n",
      "    lat         (traj, obs) float32 70kB ...\n",
      "    lon         (traj, obs) float32 70kB ...\n",
      "    z           (traj, obs) float32 70kB ...\n",
      "    U           (traj, obs) float32 70kB ...\n",
      "    V           (traj, obs) float32 70kB ...\n",
      "Attributes:\n",
      "    feature_type:           trajectory\n",
      "    Conventions:            CF-1.6/CF-1.7\n",
      "    ncei_template_version:  NCEI_NetCDF_Trajectory_Template_v2.0\n",
      "    parcels_version:        2.3.1.dev20+g92f2fb90\n",
      "    parcels_mesh:           spherical>\n"
     ]
    }
   ],
   "source": [
    "path=\"../../Simulations/toy_data_01.nc\"\n",
    "\n",
    "ds=xr.open_dataset(path)\n",
    "print(ds.keys)"
   ]
  },
  {
   "cell_type": "markdown",
   "id": "8b8e5270",
   "metadata": {},
   "source": [
    "### 2. Definition of functions"
   ]
  },
  {
   "cell_type": "code",
   "execution_count": 3,
   "id": "7caf59a5",
   "metadata": {},
   "outputs": [],
   "source": [
    "def land_mask_interpolated(land_mask, ds, bins_x, bins_y):\n",
    "    \n",
    "    \"\"\"\n",
    "    Interpolates the input land_mask from a netCDF file to the desired grid on which the KDE function\n",
    "    is displayed. The number of grid cells in the zonal & meridional direction is bins_x & bins_y respectively\n",
    "    \n",
    "    \"\"\"\n",
    "    \n",
    "    #use boolean indexing to select the values of longitude & latitude inside the domain\n",
    "    land_mask = land_mask.sel(lat=slice(ds['lat'].min(), ds['lat'].max()), \n",
    "                              lon=slice(ds['lon'].min(), ds['lon'].max()))\n",
    "\n",
    "    #define fine grid coordinates\n",
    "    fine_x, fine_y = np.meshgrid(np.arange(0, np.shape(land_mask)[1]), np.arange(0, np.shape(land_mask)[0]))\n",
    "\n",
    "    #define coarse grid coordinates with binx_x & bins_y cells in the x/y direction\n",
    "    coarse_x, coarse_y = np.meshgrid(np.linspace(0, np.shape(land_mask)[1], bins_x), np.linspace(0, np.shape(land_mask)[0], bins_y))\n",
    "    \n",
    "    #flatten fine grid coordinates and mask\n",
    "    flat_x, flat_y, flat_mask = fine_x.flatten(), fine_y.flatten(), land_mask.stack(z=('lat', 'lon'))\n",
    "\n",
    "    #interpolate mask onto coarse grid\n",
    "    coarse_mask = griddata((flat_x, flat_y), flat_mask, (coarse_x, coarse_y), method='nearest')\n",
    "    \n",
    "    #set NaN values in ocean\n",
    "    coarse_mask[coarse_mask==100]=np.nan\n",
    "    \n",
    "    #create boolean mask in the same grid as used in kde with True in ocean\n",
    "    ocean=np.isnan(coarse_mask)\n",
    "    \n",
    "    return ocean"
   ]
  },
  {
   "cell_type": "code",
   "execution_count": 4,
   "id": "9d488bdf",
   "metadata": {},
   "outputs": [],
   "source": [
    "def kde_landmask(ds, bins_x, bins_y, ocean):\n",
    "    \n",
    "    \"\"\"\n",
    "    Calculates the smoothing Gaussian function of the longitude and latitude samples from the particles' locations\n",
    "    at each observation from the Dataset 'ds'. The bandwidth of such function is fitted to the samples and the \n",
    "    resulting heat map is shown over an adjustable grid controlled by the parameters 'binx_x' & 'bins_y'.\n",
    "    \n",
    "    The input land mask 'ocean' is a boolean mask that restricts the KDE values to the ocean.\n",
    "    \"\"\"\n",
    "    #initialize an empty list to store the KDE values for each observation\n",
    "    kde_values = []\n",
    "\n",
    "    #loop over each observation in the dataset\n",
    "    for i in range(ds.obs.size):\n",
    "    \n",
    "        #extract the lon/lat values for the current observation\n",
    "        lon_lat  = np.vstack([ds.lat[:,i], ds.lon[:,i]]).T\n",
    "    \n",
    "        #create a 2D grid of lat/lon values to evaluate the KDE on based on\n",
    "        x, y = np.meshgrid(np.linspace(ds['lon'].min(), ds['lon'].max(), bins_x), np.linspace(ds['lat'].min(), ds['lat'].max(), bins_y))\n",
    "        \n",
    "        #flatten grid & the ocean mask\n",
    "        xy = np.column_stack([y.ravel(), x.ravel()])\n",
    "        ocean=ocean.ravel()\n",
    "        \n",
    "        #only consider points from xy grid in ocean\n",
    "        xy = xy[ocean]\n",
    "    \n",
    "        #initialize a KDE object & fit it to the lon/lat values from the trajectories\n",
    "        kde = KernelDensity( kernel=\"gaussian\", algorithm=\"ball_tree\")\n",
    "        \n",
    "        #suggest a range of possible values of bandwidth & find best fit\n",
    "        bandwidth = np.arange(0.02, 1, 0.05)\n",
    "        grid = GridSearchCV(kde, {'bandwidth': bandwidth})\n",
    "        \n",
    "        #find KDE for the given lat/lon values\n",
    "        grid.fit(lon_lat)\n",
    "        kde = grid.best_estimator_\n",
    "\n",
    "        #evaluate the KDE on the 2D grid created & get log-likelihood\n",
    "        log_density = kde.score_samples(xy)\n",
    "        \n",
    "        #obtain probability at each grid cell\n",
    "        density = np.exp(log_density)\n",
    "        \n",
    "        #normalise results\n",
    "        density /= density.sum()\n",
    "        \n",
    "        #initialise output matrix\n",
    "        z = np.zeros(x.shape)\n",
    "        \n",
    "        #only keep values in the ocean\n",
    "        z.ravel()[ocean] = density\n",
    "        z.resize(x.shape)\n",
    "        \n",
    "        # append the KDE values of each grid cell to the list\n",
    "        kde_values.append(z)\n",
    "    \n",
    "    #combine the KDE values into a DataArray\n",
    "    kde_values = np.stack(kde_values)\n",
    "    kde_da = xr.DataArray(kde_values,\n",
    "                      dims=(\"obs\", \"lat\", \"lon\"),\n",
    "                      coords={\"obs\": ds.obs.values,\n",
    "                              \"lat\": y[:, 0],\n",
    "                              \"lon\": x[0, :]},\n",
    "                      name=\"%\")\n",
    "    \n",
    "    #print the used bandwidth\n",
    "    print(\"optimal bandwidth: \" + \"{:.2f}\".format(kde.bandwidth))\n",
    "\n",
    "    #compute the cumulative sum of the particle distribution over time\n",
    "    kde_total=np.sum(kde_da, axis=0)\n",
    "    \n",
    "    #obtain normalised result in percentage\n",
    "    kde_total = kde_total*100/np.nansum(kde_total)\n",
    "    \n",
    "    #set to NaN zero value\n",
    "    kde_total=kde_total.where(kde_total!= 0, np.nan)\n",
    "    \n",
    "    return kde_total"
   ]
  },
  {
   "cell_type": "code",
   "execution_count": 5,
   "id": "c851dd47",
   "metadata": {},
   "outputs": [],
   "source": [
    "\n",
    "def probability_map(probability, xlim, ylim, title):\n",
    "    \n",
    "    \"\"\" All-included plot of the desired domain specified by xlim & ylim \"\"\"\n",
    "    \n",
    "    fig=plt.figure(figsize=(13,6)) \n",
    "    ax = fig.add_subplot(111, projection=ccrs.PlateCarree(central_longitude=0.0))\n",
    "\n",
    "    #create grid with [min, max] values of lons & lats\n",
    "    ax.set_xlim(xlim)\n",
    "    ax.set_ylim(ylim)\n",
    "    \n",
    "    #plot coastlines\n",
    "    ax.coastlines(resolution='10m')\n",
    "    ax.add_feature(cartopy.feature.LAND, facecolor='grey')\n",
    "\n",
    "    #draw grid lines\n",
    "    gl = ax.gridlines(crs=ccrs.PlateCarree(), draw_labels=True)\n",
    "    gl.right_labels = False\n",
    "    gl.top_labels = False\n",
    "\n",
    "    #plot probability results \n",
    "    probability.plot(ax=ax, cmap=cmo.matter)\n",
    "    plt.title(title)\n",
    "                \n",
    "    return plt.show()"
   ]
  },
  {
   "cell_type": "markdown",
   "id": "1fdea949",
   "metadata": {},
   "source": [
    "### 3. Results"
   ]
  },
  {
   "cell_type": "markdown",
   "id": "a79a9f5c",
   "metadata": {},
   "source": [
    "### 3.1 Obtaining land mask to exclude from KDE analysis\n",
    "\n",
    "Method: imput fine resolution land mask and interpolate it to the grid used to display the KDE on. \n",
    "Download <a href=\"https://gpm.nasa.gov/data/directory/imerg-land-sea-mask-netcdf\" target=\"_blank\">land sea mask</a> from NASA website."
   ]
  },
  {
   "cell_type": "code",
   "execution_count": 6,
   "id": "c4604313",
   "metadata": {},
   "outputs": [
    {
     "ename": "FileNotFoundError",
     "evalue": "[Errno 2] No such file or directory: '/Users/lienzo/Downloads/IMERG_land_sea_mask.nc'",
     "output_type": "error",
     "traceback": [
      "\u001b[31m---------------------------------------------------------------------------\u001b[39m",
      "\u001b[31mKeyError\u001b[39m                                  Traceback (most recent call last)",
      "\u001b[36mFile \u001b[39m\u001b[32m~/miniforge3/envs/lagrangian_diags/lib/python3.11/site-packages/xarray/backends/file_manager.py:211\u001b[39m, in \u001b[36mCachingFileManager._acquire_with_cache_info\u001b[39m\u001b[34m(self, needs_lock)\u001b[39m\n\u001b[32m    210\u001b[39m \u001b[38;5;28;01mtry\u001b[39;00m:\n\u001b[32m--> \u001b[39m\u001b[32m211\u001b[39m     file = \u001b[38;5;28;43mself\u001b[39;49m\u001b[43m.\u001b[49m\u001b[43m_cache\u001b[49m\u001b[43m[\u001b[49m\u001b[38;5;28;43mself\u001b[39;49m\u001b[43m.\u001b[49m\u001b[43m_key\u001b[49m\u001b[43m]\u001b[49m\n\u001b[32m    212\u001b[39m \u001b[38;5;28;01mexcept\u001b[39;00m \u001b[38;5;167;01mKeyError\u001b[39;00m:\n",
      "\u001b[36mFile \u001b[39m\u001b[32m~/miniforge3/envs/lagrangian_diags/lib/python3.11/site-packages/xarray/backends/lru_cache.py:56\u001b[39m, in \u001b[36mLRUCache.__getitem__\u001b[39m\u001b[34m(self, key)\u001b[39m\n\u001b[32m     55\u001b[39m \u001b[38;5;28;01mwith\u001b[39;00m \u001b[38;5;28mself\u001b[39m._lock:\n\u001b[32m---> \u001b[39m\u001b[32m56\u001b[39m     value = \u001b[38;5;28;43mself\u001b[39;49m\u001b[43m.\u001b[49m\u001b[43m_cache\u001b[49m\u001b[43m[\u001b[49m\u001b[43mkey\u001b[49m\u001b[43m]\u001b[49m\n\u001b[32m     57\u001b[39m     \u001b[38;5;28mself\u001b[39m._cache.move_to_end(key)\n",
      "\u001b[31mKeyError\u001b[39m: [<class 'netCDF4._netCDF4.Dataset'>, ('/Users/lienzo/Downloads/IMERG_land_sea_mask.nc',), 'r', (('clobber', True), ('diskless', False), ('format', 'NETCDF4'), ('persist', False)), 'bcff2111-a4b9-402c-a696-ac8b52719089']",
      "\nDuring handling of the above exception, another exception occurred:\n",
      "\u001b[31mFileNotFoundError\u001b[39m                         Traceback (most recent call last)",
      "\u001b[36mCell\u001b[39m\u001b[36m \u001b[39m\u001b[32mIn[6]\u001b[39m\u001b[32m, line 2\u001b[39m\n\u001b[32m      1\u001b[39m \u001b[38;5;66;03m#import land mask\u001b[39;00m\n\u001b[32m----> \u001b[39m\u001b[32m2\u001b[39m land=\u001b[43mxr\u001b[49m\u001b[43m.\u001b[49m\u001b[43mopen_dataset\u001b[49m\u001b[43m(\u001b[49m\u001b[33;43m'\u001b[39;49m\u001b[33;43m/Users/lienzo/Downloads/IMERG_land_sea_mask.nc\u001b[39;49m\u001b[33;43m'\u001b[39;49m\u001b[43m)\u001b[49m\n\u001b[32m      3\u001b[39m \u001b[38;5;28mprint\u001b[39m(land.keys())\n\u001b[32m      4\u001b[39m land[\u001b[33m'\u001b[39m\u001b[33mlandseamask\u001b[39m\u001b[33m'\u001b[39m].plot()\n",
      "\u001b[36mFile \u001b[39m\u001b[32m~/miniforge3/envs/lagrangian_diags/lib/python3.11/site-packages/xarray/backends/api.py:760\u001b[39m, in \u001b[36mopen_dataset\u001b[39m\u001b[34m(filename_or_obj, engine, chunks, cache, decode_cf, mask_and_scale, decode_times, decode_timedelta, use_cftime, concat_characters, decode_coords, drop_variables, create_default_indexes, inline_array, chunked_array_type, from_array_kwargs, backend_kwargs, **kwargs)\u001b[39m\n\u001b[32m    748\u001b[39m decoders = _resolve_decoders_kwargs(\n\u001b[32m    749\u001b[39m     decode_cf,\n\u001b[32m    750\u001b[39m     open_backend_dataset_parameters=backend.open_dataset_parameters,\n\u001b[32m   (...)\u001b[39m\u001b[32m    756\u001b[39m     decode_coords=decode_coords,\n\u001b[32m    757\u001b[39m )\n\u001b[32m    759\u001b[39m overwrite_encoded_chunks = kwargs.pop(\u001b[33m\"\u001b[39m\u001b[33moverwrite_encoded_chunks\u001b[39m\u001b[33m\"\u001b[39m, \u001b[38;5;28;01mNone\u001b[39;00m)\n\u001b[32m--> \u001b[39m\u001b[32m760\u001b[39m backend_ds = \u001b[43mbackend\u001b[49m\u001b[43m.\u001b[49m\u001b[43mopen_dataset\u001b[49m\u001b[43m(\u001b[49m\n\u001b[32m    761\u001b[39m \u001b[43m    \u001b[49m\u001b[43mfilename_or_obj\u001b[49m\u001b[43m,\u001b[49m\n\u001b[32m    762\u001b[39m \u001b[43m    \u001b[49m\u001b[43mdrop_variables\u001b[49m\u001b[43m=\u001b[49m\u001b[43mdrop_variables\u001b[49m\u001b[43m,\u001b[49m\n\u001b[32m    763\u001b[39m \u001b[43m    \u001b[49m\u001b[43m*\u001b[49m\u001b[43m*\u001b[49m\u001b[43mdecoders\u001b[49m\u001b[43m,\u001b[49m\n\u001b[32m    764\u001b[39m \u001b[43m    \u001b[49m\u001b[43m*\u001b[49m\u001b[43m*\u001b[49m\u001b[43mkwargs\u001b[49m\u001b[43m,\u001b[49m\n\u001b[32m    765\u001b[39m \u001b[43m\u001b[49m\u001b[43m)\u001b[49m\n\u001b[32m    766\u001b[39m ds = _dataset_from_backend_dataset(\n\u001b[32m    767\u001b[39m     backend_ds,\n\u001b[32m    768\u001b[39m     filename_or_obj,\n\u001b[32m   (...)\u001b[39m\u001b[32m    779\u001b[39m     **kwargs,\n\u001b[32m    780\u001b[39m )\n\u001b[32m    781\u001b[39m \u001b[38;5;28;01mreturn\u001b[39;00m ds\n",
      "\u001b[36mFile \u001b[39m\u001b[32m~/miniforge3/envs/lagrangian_diags/lib/python3.11/site-packages/xarray/backends/netCDF4_.py:682\u001b[39m, in \u001b[36mNetCDF4BackendEntrypoint.open_dataset\u001b[39m\u001b[34m(self, filename_or_obj, mask_and_scale, decode_times, concat_characters, decode_coords, drop_variables, use_cftime, decode_timedelta, group, mode, format, clobber, diskless, persist, auto_complex, lock, autoclose)\u001b[39m\n\u001b[32m    660\u001b[39m \u001b[38;5;28;01mdef\u001b[39;00m\u001b[38;5;250m \u001b[39m\u001b[34mopen_dataset\u001b[39m(\n\u001b[32m    661\u001b[39m     \u001b[38;5;28mself\u001b[39m,\n\u001b[32m    662\u001b[39m     filename_or_obj: T_PathFileOrDataStore,\n\u001b[32m   (...)\u001b[39m\u001b[32m    679\u001b[39m     autoclose=\u001b[38;5;28;01mFalse\u001b[39;00m,\n\u001b[32m    680\u001b[39m ) -> Dataset:\n\u001b[32m    681\u001b[39m     filename_or_obj = _normalize_path(filename_or_obj)\n\u001b[32m--> \u001b[39m\u001b[32m682\u001b[39m     store = \u001b[43mNetCDF4DataStore\u001b[49m\u001b[43m.\u001b[49m\u001b[43mopen\u001b[49m\u001b[43m(\u001b[49m\n\u001b[32m    683\u001b[39m \u001b[43m        \u001b[49m\u001b[43mfilename_or_obj\u001b[49m\u001b[43m,\u001b[49m\n\u001b[32m    684\u001b[39m \u001b[43m        \u001b[49m\u001b[43mmode\u001b[49m\u001b[43m=\u001b[49m\u001b[43mmode\u001b[49m\u001b[43m,\u001b[49m\n\u001b[32m    685\u001b[39m \u001b[43m        \u001b[49m\u001b[38;5;28;43mformat\u001b[39;49m\u001b[43m=\u001b[49m\u001b[38;5;28;43mformat\u001b[39;49m\u001b[43m,\u001b[49m\n\u001b[32m    686\u001b[39m \u001b[43m        \u001b[49m\u001b[43mgroup\u001b[49m\u001b[43m=\u001b[49m\u001b[43mgroup\u001b[49m\u001b[43m,\u001b[49m\n\u001b[32m    687\u001b[39m \u001b[43m        \u001b[49m\u001b[43mclobber\u001b[49m\u001b[43m=\u001b[49m\u001b[43mclobber\u001b[49m\u001b[43m,\u001b[49m\n\u001b[32m    688\u001b[39m \u001b[43m        \u001b[49m\u001b[43mdiskless\u001b[49m\u001b[43m=\u001b[49m\u001b[43mdiskless\u001b[49m\u001b[43m,\u001b[49m\n\u001b[32m    689\u001b[39m \u001b[43m        \u001b[49m\u001b[43mpersist\u001b[49m\u001b[43m=\u001b[49m\u001b[43mpersist\u001b[49m\u001b[43m,\u001b[49m\n\u001b[32m    690\u001b[39m \u001b[43m        \u001b[49m\u001b[43mauto_complex\u001b[49m\u001b[43m=\u001b[49m\u001b[43mauto_complex\u001b[49m\u001b[43m,\u001b[49m\n\u001b[32m    691\u001b[39m \u001b[43m        \u001b[49m\u001b[43mlock\u001b[49m\u001b[43m=\u001b[49m\u001b[43mlock\u001b[49m\u001b[43m,\u001b[49m\n\u001b[32m    692\u001b[39m \u001b[43m        \u001b[49m\u001b[43mautoclose\u001b[49m\u001b[43m=\u001b[49m\u001b[43mautoclose\u001b[49m\u001b[43m,\u001b[49m\n\u001b[32m    693\u001b[39m \u001b[43m    \u001b[49m\u001b[43m)\u001b[49m\n\u001b[32m    695\u001b[39m     store_entrypoint = StoreBackendEntrypoint()\n\u001b[32m    696\u001b[39m     \u001b[38;5;28;01mwith\u001b[39;00m close_on_error(store):\n",
      "\u001b[36mFile \u001b[39m\u001b[32m~/miniforge3/envs/lagrangian_diags/lib/python3.11/site-packages/xarray/backends/netCDF4_.py:468\u001b[39m, in \u001b[36mNetCDF4DataStore.open\u001b[39m\u001b[34m(cls, filename, mode, format, group, clobber, diskless, persist, auto_complex, lock, lock_maker, autoclose)\u001b[39m\n\u001b[32m    464\u001b[39m     kwargs[\u001b[33m\"\u001b[39m\u001b[33mauto_complex\u001b[39m\u001b[33m\"\u001b[39m] = auto_complex\n\u001b[32m    465\u001b[39m manager = CachingFileManager(\n\u001b[32m    466\u001b[39m     netCDF4.Dataset, filename, mode=mode, kwargs=kwargs\n\u001b[32m    467\u001b[39m )\n\u001b[32m--> \u001b[39m\u001b[32m468\u001b[39m \u001b[38;5;28;01mreturn\u001b[39;00m \u001b[38;5;28;43mcls\u001b[39;49m\u001b[43m(\u001b[49m\u001b[43mmanager\u001b[49m\u001b[43m,\u001b[49m\u001b[43m \u001b[49m\u001b[43mgroup\u001b[49m\u001b[43m=\u001b[49m\u001b[43mgroup\u001b[49m\u001b[43m,\u001b[49m\u001b[43m \u001b[49m\u001b[43mmode\u001b[49m\u001b[43m=\u001b[49m\u001b[43mmode\u001b[49m\u001b[43m,\u001b[49m\u001b[43m \u001b[49m\u001b[43mlock\u001b[49m\u001b[43m=\u001b[49m\u001b[43mlock\u001b[49m\u001b[43m,\u001b[49m\u001b[43m \u001b[49m\u001b[43mautoclose\u001b[49m\u001b[43m=\u001b[49m\u001b[43mautoclose\u001b[49m\u001b[43m)\u001b[49m\n",
      "\u001b[36mFile \u001b[39m\u001b[32m~/miniforge3/envs/lagrangian_diags/lib/python3.11/site-packages/xarray/backends/netCDF4_.py:398\u001b[39m, in \u001b[36mNetCDF4DataStore.__init__\u001b[39m\u001b[34m(self, manager, group, mode, lock, autoclose)\u001b[39m\n\u001b[32m    396\u001b[39m \u001b[38;5;28mself\u001b[39m._group = group\n\u001b[32m    397\u001b[39m \u001b[38;5;28mself\u001b[39m._mode = mode\n\u001b[32m--> \u001b[39m\u001b[32m398\u001b[39m \u001b[38;5;28mself\u001b[39m.format = \u001b[38;5;28;43mself\u001b[39;49m\u001b[43m.\u001b[49m\u001b[43mds\u001b[49m.data_model\n\u001b[32m    399\u001b[39m \u001b[38;5;28mself\u001b[39m._filename = \u001b[38;5;28mself\u001b[39m.ds.filepath()\n\u001b[32m    400\u001b[39m \u001b[38;5;28mself\u001b[39m.is_remote = is_remote_uri(\u001b[38;5;28mself\u001b[39m._filename)\n",
      "\u001b[36mFile \u001b[39m\u001b[32m~/miniforge3/envs/lagrangian_diags/lib/python3.11/site-packages/xarray/backends/netCDF4_.py:477\u001b[39m, in \u001b[36mNetCDF4DataStore.ds\u001b[39m\u001b[34m(self)\u001b[39m\n\u001b[32m    475\u001b[39m \u001b[38;5;129m@property\u001b[39m\n\u001b[32m    476\u001b[39m \u001b[38;5;28;01mdef\u001b[39;00m\u001b[38;5;250m \u001b[39m\u001b[34mds\u001b[39m(\u001b[38;5;28mself\u001b[39m):\n\u001b[32m--> \u001b[39m\u001b[32m477\u001b[39m     \u001b[38;5;28;01mreturn\u001b[39;00m \u001b[38;5;28;43mself\u001b[39;49m\u001b[43m.\u001b[49m\u001b[43m_acquire\u001b[49m\u001b[43m(\u001b[49m\u001b[43m)\u001b[49m\n",
      "\u001b[36mFile \u001b[39m\u001b[32m~/miniforge3/envs/lagrangian_diags/lib/python3.11/site-packages/xarray/backends/netCDF4_.py:471\u001b[39m, in \u001b[36mNetCDF4DataStore._acquire\u001b[39m\u001b[34m(self, needs_lock)\u001b[39m\n\u001b[32m    470\u001b[39m \u001b[38;5;28;01mdef\u001b[39;00m\u001b[38;5;250m \u001b[39m\u001b[34m_acquire\u001b[39m(\u001b[38;5;28mself\u001b[39m, needs_lock=\u001b[38;5;28;01mTrue\u001b[39;00m):\n\u001b[32m--> \u001b[39m\u001b[32m471\u001b[39m \u001b[43m    \u001b[49m\u001b[38;5;28;43;01mwith\u001b[39;49;00m\u001b[43m \u001b[49m\u001b[38;5;28;43mself\u001b[39;49m\u001b[43m.\u001b[49m\u001b[43m_manager\u001b[49m\u001b[43m.\u001b[49m\u001b[43macquire_context\u001b[49m\u001b[43m(\u001b[49m\u001b[43mneeds_lock\u001b[49m\u001b[43m)\u001b[49m\u001b[43m \u001b[49m\u001b[38;5;28;43;01mas\u001b[39;49;00m\u001b[43m \u001b[49m\u001b[43mroot\u001b[49m\u001b[43m:\u001b[49m\n\u001b[32m    472\u001b[39m \u001b[43m        \u001b[49m\u001b[43mds\u001b[49m\u001b[43m \u001b[49m\u001b[43m=\u001b[49m\u001b[43m \u001b[49m\u001b[43m_nc4_require_group\u001b[49m\u001b[43m(\u001b[49m\u001b[43mroot\u001b[49m\u001b[43m,\u001b[49m\u001b[43m \u001b[49m\u001b[38;5;28;43mself\u001b[39;49m\u001b[43m.\u001b[49m\u001b[43m_group\u001b[49m\u001b[43m,\u001b[49m\u001b[43m \u001b[49m\u001b[38;5;28;43mself\u001b[39;49m\u001b[43m.\u001b[49m\u001b[43m_mode\u001b[49m\u001b[43m)\u001b[49m\n\u001b[32m    473\u001b[39m     \u001b[38;5;28;01mreturn\u001b[39;00m ds\n",
      "\u001b[36mFile \u001b[39m\u001b[32m~/miniforge3/envs/lagrangian_diags/lib/python3.11/contextlib.py:137\u001b[39m, in \u001b[36m_GeneratorContextManager.__enter__\u001b[39m\u001b[34m(self)\u001b[39m\n\u001b[32m    135\u001b[39m \u001b[38;5;28;01mdel\u001b[39;00m \u001b[38;5;28mself\u001b[39m.args, \u001b[38;5;28mself\u001b[39m.kwds, \u001b[38;5;28mself\u001b[39m.func\n\u001b[32m    136\u001b[39m \u001b[38;5;28;01mtry\u001b[39;00m:\n\u001b[32m--> \u001b[39m\u001b[32m137\u001b[39m     \u001b[38;5;28;01mreturn\u001b[39;00m \u001b[38;5;28mnext\u001b[39m(\u001b[38;5;28mself\u001b[39m.gen)\n\u001b[32m    138\u001b[39m \u001b[38;5;28;01mexcept\u001b[39;00m \u001b[38;5;167;01mStopIteration\u001b[39;00m:\n\u001b[32m    139\u001b[39m     \u001b[38;5;28;01mraise\u001b[39;00m \u001b[38;5;167;01mRuntimeError\u001b[39;00m(\u001b[33m\"\u001b[39m\u001b[33mgenerator didn\u001b[39m\u001b[33m'\u001b[39m\u001b[33mt yield\u001b[39m\u001b[33m\"\u001b[39m) \u001b[38;5;28;01mfrom\u001b[39;00m\u001b[38;5;250m \u001b[39m\u001b[38;5;28;01mNone\u001b[39;00m\n",
      "\u001b[36mFile \u001b[39m\u001b[32m~/miniforge3/envs/lagrangian_diags/lib/python3.11/site-packages/xarray/backends/file_manager.py:199\u001b[39m, in \u001b[36mCachingFileManager.acquire_context\u001b[39m\u001b[34m(self, needs_lock)\u001b[39m\n\u001b[32m    196\u001b[39m \u001b[38;5;129m@contextlib\u001b[39m.contextmanager\n\u001b[32m    197\u001b[39m \u001b[38;5;28;01mdef\u001b[39;00m\u001b[38;5;250m \u001b[39m\u001b[34macquire_context\u001b[39m(\u001b[38;5;28mself\u001b[39m, needs_lock=\u001b[38;5;28;01mTrue\u001b[39;00m):\n\u001b[32m    198\u001b[39m \u001b[38;5;250m    \u001b[39m\u001b[33;03m\"\"\"Context manager for acquiring a file.\"\"\"\u001b[39;00m\n\u001b[32m--> \u001b[39m\u001b[32m199\u001b[39m     file, cached = \u001b[38;5;28;43mself\u001b[39;49m\u001b[43m.\u001b[49m\u001b[43m_acquire_with_cache_info\u001b[49m\u001b[43m(\u001b[49m\u001b[43mneeds_lock\u001b[49m\u001b[43m)\u001b[49m\n\u001b[32m    200\u001b[39m     \u001b[38;5;28;01mtry\u001b[39;00m:\n\u001b[32m    201\u001b[39m         \u001b[38;5;28;01myield\u001b[39;00m file\n",
      "\u001b[36mFile \u001b[39m\u001b[32m~/miniforge3/envs/lagrangian_diags/lib/python3.11/site-packages/xarray/backends/file_manager.py:217\u001b[39m, in \u001b[36mCachingFileManager._acquire_with_cache_info\u001b[39m\u001b[34m(self, needs_lock)\u001b[39m\n\u001b[32m    215\u001b[39m     kwargs = kwargs.copy()\n\u001b[32m    216\u001b[39m     kwargs[\u001b[33m\"\u001b[39m\u001b[33mmode\u001b[39m\u001b[33m\"\u001b[39m] = \u001b[38;5;28mself\u001b[39m._mode\n\u001b[32m--> \u001b[39m\u001b[32m217\u001b[39m file = \u001b[38;5;28;43mself\u001b[39;49m\u001b[43m.\u001b[49m\u001b[43m_opener\u001b[49m\u001b[43m(\u001b[49m\u001b[43m*\u001b[49m\u001b[38;5;28;43mself\u001b[39;49m\u001b[43m.\u001b[49m\u001b[43m_args\u001b[49m\u001b[43m,\u001b[49m\u001b[43m \u001b[49m\u001b[43m*\u001b[49m\u001b[43m*\u001b[49m\u001b[43mkwargs\u001b[49m\u001b[43m)\u001b[49m\n\u001b[32m    218\u001b[39m \u001b[38;5;28;01mif\u001b[39;00m \u001b[38;5;28mself\u001b[39m._mode == \u001b[33m\"\u001b[39m\u001b[33mw\u001b[39m\u001b[33m\"\u001b[39m:\n\u001b[32m    219\u001b[39m     \u001b[38;5;66;03m# ensure file doesn't get overridden when opened again\u001b[39;00m\n\u001b[32m    220\u001b[39m     \u001b[38;5;28mself\u001b[39m._mode = \u001b[33m\"\u001b[39m\u001b[33ma\u001b[39m\u001b[33m\"\u001b[39m\n",
      "\u001b[36mFile \u001b[39m\u001b[32msrc/netCDF4/_netCDF4.pyx:2521\u001b[39m, in \u001b[36mnetCDF4._netCDF4.Dataset.__init__\u001b[39m\u001b[34m()\u001b[39m\n",
      "\u001b[36mFile \u001b[39m\u001b[32msrc/netCDF4/_netCDF4.pyx:2158\u001b[39m, in \u001b[36mnetCDF4._netCDF4._ensure_nc_success\u001b[39m\u001b[34m()\u001b[39m\n",
      "\u001b[31mFileNotFoundError\u001b[39m: [Errno 2] No such file or directory: '/Users/lienzo/Downloads/IMERG_land_sea_mask.nc'"
     ]
    }
   ],
   "source": [
    "#import land mask\n",
    "land=xr.open_dataset('/Users/lienzo/Downloads/IMERG_land_sea_mask.nc')\n",
    "print(land.keys())\n",
    "land['landseamask'].plot()"
   ]
  },
  {
   "cell_type": "code",
   "execution_count": null,
   "id": "b42e110c",
   "metadata": {},
   "outputs": [],
   "source": [
    "#choose bin size of the output grid\n",
    "bins_x=100\n",
    "bins_y=100\n",
    "\n",
    "#interpolate land mask to output grid\n",
    "ocean=land_mask_interpolated(land['landseamask'], ds,  bins_x, bins_y)\n",
    "\n",
    "#calculate KDE over output grid\n",
    "kde_results=kde_landmask(ds, bins_x, bins_y, ocean)"
   ]
  },
  {
   "cell_type": "markdown",
   "id": "888280a3",
   "metadata": {},
   "source": [
    "### 4. Plotting"
   ]
  },
  {
   "cell_type": "code",
   "execution_count": null,
   "id": "ee2f2f47",
   "metadata": {},
   "outputs": [],
   "source": [
    "#choose the limits of the x & y axis of the graph\n",
    "xlim=[10, 47]\n",
    "ylim= [-47, -25]\n",
    "\n",
    "#plot results\n",
    "probability_map(kde_results, xlim, ylim, 'Kernel Distribution Estimation')"
   ]
  },
  {
   "cell_type": "code",
   "execution_count": null,
   "id": "033953a9",
   "metadata": {},
   "outputs": [],
   "source": []
  }
 ],
 "metadata": {
  "kernelspec": {
   "display_name": "lagrangian_diags",
   "language": "python",
   "name": "python3"
  },
  "language_info": {
   "codemirror_mode": {
    "name": "ipython",
    "version": 3
   },
   "file_extension": ".py",
   "mimetype": "text/x-python",
   "name": "python",
   "nbconvert_exporter": "python",
   "pygments_lexer": "ipython3",
   "version": "3.11.13"
  }
 },
 "nbformat": 4,
 "nbformat_minor": 5
}
